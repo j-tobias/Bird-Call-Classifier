{
 "cells": [
  {
   "cell_type": "code",
   "execution_count": 48,
   "metadata": {},
   "outputs": [],
   "source": [
    "import numpy as np\n",
    "import os\n",
    "import glob\n",
    "import plotly.express as px\n",
    "import plotly.graph_objs as go\n",
    "from plotly.subplots import make_subplots\n",
    "from sklearn.decomposition import PCA\n",
    "from tqdm import tqdm\n",
    "from scipy.stats import pearsonr\n",
    "import pandas as pd\n"
   ]
  },
  {
   "attachments": {},
   "cell_type": "markdown",
   "metadata": {},
   "source": [
    "## 2 Task Outline\n",
    "Instead of blindly throwing that data at machine learning algorithms, a good data scientist will first do some exploratory data analysis. In your team, we would like you to analyze the data with respect to the following aspects:\n",
    "\n",
    "### 4. \n",
    "\n",
    "### Feature/Label agreement: \n",
    "\n",
    "### Which features seem useful for classification? \n",
    "\n",
    "### Which ones are correlated with the labels?"
   ]
  },
  {
   "cell_type": "code",
   "execution_count": 6,
   "metadata": {},
   "outputs": [],
   "source": [
    "# Load the Dataset\n",
    "\n",
    "# Load the Dataset\n",
    "\n",
    "label_files = glob.glob(\"Dataset/**/**labels.npy\", recursive=True)\n",
    "label_files.sort()\n",
    "\n",
    "\"\"\"\n",
    "'Dataset/comcuc/133067.labels.npy',\n",
    "'Dataset/comcuc/182336.labels.npy',\n",
    "'Dataset/comcuc/189031.labels.npy',\n",
    "'Dataset/comcuc/240515.labels.npy',\n",
    "'Dataset/comcuc/25627.labels.npy',\n",
    "\"\"\"\n",
    "\n",
    "data_files = glob.glob(\"Dataset/**/**.npy\", recursive=True)\n",
    "data_files = [file for file in data_files if not \".label\" in file]\n",
    "data_files.sort()\n",
    "\n",
    "\"\"\"\n",
    "'Dataset/comcuc/133067.npy',\n",
    "'Dataset/comcuc/182336.npy',\n",
    "'Dataset/comcuc/189031.npy',\n",
    "'Dataset/comcuc/240515.npy',\n",
    "\"\"\"\n",
    "\n",
    "birds = ['comcuc', 'cowpig1', 'eucdov', 'eueowl1', 'grswoo', 'tawowl1']\n",
    "\n",
    "def create_feature_dict ():\n",
    "    \n",
    "    with open('Dataset/feature_names.txt', mode='r') as f:\n",
    "        features = f.readlines()\n",
    "\n",
    "    features = [feature[:-1] for feature in features]\n",
    "    values = [[] for _ in range(len(features))]\n",
    "\n",
    "    return dict(zip(features, values))\n",
    "\n",
    "def create_labels ():\n",
    "    \n",
    "    with open('Dataset/feature_names.txt', mode='r') as f:\n",
    "        features = f.readlines()\n",
    "\n",
    "    features = [feature[:-1] for feature in features]\n",
    "    return features\n",
    "\n",
    "def load_data_file (file):\n",
    "    \n",
    "    # create a new feature dict\n",
    "    feature_dict = create_feature_dict()\n",
    "\n",
    "    # load the numpy file\n",
    "    file = np.load(file)\n",
    "\n",
    "    for section in file:\n",
    "        for i, key in enumerate(feature_dict.keys()):\n",
    "            feature_dict[key].append(section[i])\n",
    "\n",
    "    return feature_dict\n",
    "\n",
    "def get_features_by_bird (bird):\n",
    "\n",
    "    # create a new dict to store the values for each feature\n",
    "    features_by_category = create_feature_dict()\n",
    "\n",
    "    # iterate through the files of the respective bird\n",
    "    for file in tqdm(list([file for file in data_files if bird in file])):\n",
    "\n",
    "        # load the data from the features\n",
    "        file_data = load_data_file(file)\n",
    "\n",
    "        # append the new data to the feature dict\n",
    "        for key in file_data.keys():\n",
    "            features_by_category[key].append(file_data[key])\n",
    "\n",
    "    for key in features_by_category.keys():\n",
    "        features_by_category[key] = np.asarray(features_by_category[key])\n",
    "\n",
    "    return features_by_category\n",
    "\n",
    "def get_bird_features ():\n",
    "    bird_feautres = {'comcuc': 1,\n",
    "        'cowpig1': 2,\n",
    "        'eucdov': 3,\n",
    "        'eueowl1': 4,\n",
    "        'grswoo': 5,\n",
    "        'tawowl1': 6}\n",
    "\n",
    "    for bird in tqdm(birds):\n",
    "\n",
    "        features_by_category = get_features_by_bird(bird)\n",
    "        \n",
    "        bird_feautres.update({bird: features_by_category})\n",
    "\n",
    "    return bird_feautres\n"
   ]
  },
  {
   "cell_type": "code",
   "execution_count": 19,
   "metadata": {},
   "outputs": [
    {
     "name": "stderr",
     "output_type": "stream",
     "text": [
      "  0%|          | 0/6 [00:00<?, ?it/s]/Library/Frameworks/Python.framework/Versions/3.11/lib/python3.11/site-packages/scipy/stats/_stats_py.py:4424: ConstantInputWarning: An input array is constant; the correlation coefficient is not defined.\n",
      "  warnings.warn(stats.ConstantInputWarning(msg))\n",
      "100%|██████████| 6/6 [02:53<00:00, 28.93s/it]\n"
     ]
    }
   ],
   "source": [
    "correlations_by_bird = {\n",
    "    'comcuc': [],\n",
    "    'cowpig1': [],\n",
    "    'eucdov': [],\n",
    "    'eueowl1': [],\n",
    "    'grswoo': [],\n",
    "    'tawowl1': []}\n",
    "\n",
    "# iterate through the bird\n",
    "for bird in tqdm(birds):\n",
    "\n",
    "    # get all files which are in the directory of the current bird\n",
    "    current_label_files = [file for file in label_files if bird in file]\n",
    "    current_data_files = [file for file in data_files if bird in file]\n",
    "\n",
    "    # create a list to store the correlations by file\n",
    "    correlations_by_file = [] \n",
    "\n",
    "    # iterate through the data files and their respective label file\n",
    "    for data_f, label_f in zip(current_data_files, current_label_files):\n",
    "\n",
    "        # create a list to store the correlation coeffiencts by feature\n",
    "        correlations_by_feature = []\n",
    "\n",
    "        # load the label array and the data array\n",
    "        label_arr = np.load(label_f)[:, 0]\n",
    "        data_arr = np.load(data_f)\n",
    "\n",
    "        # iterate through all the features of the data file\n",
    "        for i in range(data_arr.shape[1]):\n",
    "            feature_arr = data_arr[:, i]\n",
    "\n",
    "            try:\n",
    "                # compute the pearson correlation coefficient\n",
    "                corr, _ = pearsonr(label_arr, feature_arr)\n",
    "            except:\n",
    "                corr = 0\n",
    "        \n",
    "            # store the computed correlation\n",
    "            correlations_by_feature.append(corr)\n",
    "            \n",
    "        correlations_by_file.append(correlations_by_feature)\n",
    "    \n",
    "    correlations_by_bird[bird].append(correlations_by_file)\n",
    "\n"
   ]
  },
  {
   "cell_type": "code",
   "execution_count": 31,
   "metadata": {},
   "outputs": [
    {
     "name": "stderr",
     "output_type": "stream",
     "text": [
      "52it [00:14,  3.49it/s]/Library/Frameworks/Python.framework/Versions/3.11/lib/python3.11/site-packages/scipy/stats/_stats_py.py:4424: ConstantInputWarning: An input array is constant; the correlation coefficient is not defined.\n",
      "  warnings.warn(stats.ConstantInputWarning(msg))\n",
      "1200it [05:31,  3.62it/s]\n"
     ]
    }
   ],
   "source": [
    "# create a list to store the correlations by file\n",
    "correlations_by_file = [] \n",
    "\n",
    "# iterate through the data files and their respective label file\n",
    "for data_f, label_f in tqdm(zip(data_files, label_files)):\n",
    "\n",
    "    # create a list to store the correlation coeffiencts by feature\n",
    "    correlations_by_feature = []\n",
    "\n",
    "    # load the label array and the data array\n",
    "    label_arr = np.load(label_f)[:, 0]\n",
    "    data_arr = np.load(data_f)\n",
    "\n",
    "    # iterate through all the features of the data file\n",
    "    for i in range(data_arr.shape[1]):\n",
    "        feature_arr = data_arr[:, i]\n",
    "\n",
    "        corr, _ = pearsonr(label_arr, feature_arr)\n",
    "\n",
    "        if type(corr) == np.float64:\n",
    "\n",
    "            correlations_by_feature.append(corr)\n",
    "\n",
    "    if correlations_by_feature != []:\n",
    "        correlations_by_file.append(correlations_by_feature)\n",
    "\n",
    "    "
   ]
  },
  {
   "cell_type": "code",
   "execution_count": 46,
   "metadata": {},
   "outputs": [
    {
     "data": {
      "application/vnd.plotly.v1+json": {
       "config": {
        "plotlyServerURL": "https://plot.ly"
       },
       "data": [
        {
         "type": "bar",
         "x": [
          "raw_energy_mean",
          "raw_flux_mean",
          "cln_contrast_mean_3",
          "raw_contrast_mean_3",
          "raw_energy_std",
          "raw_flux_std",
          "raw_power_mean",
          "raw_mfcc_mean_0",
          "cln_mfcc_mean_0",
          "raw_melspect_mean_7",
          "raw_power_std",
          "raw_melspect_mean_8",
          "cln_melspect_mean_7",
          "cln_melspect_mean_8",
          "raw_melspect_mean_9",
          "cln_melspect_mean_9",
          "raw_melspect_mean_6",
          "cln_melspect_mean_6",
          "cln_flux_mean",
          "cln_energy_mean",
          "raw_melspect_mean_10",
          "cln_melspect_mean_10",
          "cln_power_mean",
          "cln_flux_std",
          "raw_melspect_mean_11",
          "raw_melspect_mean_5",
          "cln_melspect_mean_11",
          "cln_melspect_mean_5",
          "cln_power_std",
          "raw_melspect_mean_12",
          "cln_melspect_mean_12",
          "cln_centroid_std",
          "cln_energy_std",
          "raw_mfcc_mean_1",
          "cln_contrast_mean_4",
          "raw_melspect_mean_4",
          "raw_mfcc_std_1",
          "cln_mfcc_mean_1",
          "cln_melspect_mean_4",
          "cln_mfcc_std_1",
          "raw_melspect_std_8",
          "raw_bandwidth_std",
          "raw_melspect_std_7",
          "raw_contrast_std_3",
          "cln_melspect_std_7",
          "cln_melspect_std_8",
          "raw_mfcc_d_std_1",
          "cln_contrast_std_3",
          "raw_melspect_mean_13",
          "cln_mfcc_d_std_1",
          "cln_melspect_mean_13",
          "raw_contrast_mean_4",
          "raw_melspect_mean_19",
          "cln_melspect_mean_19",
          "raw_melspect_std_9",
          "raw_melspect_mean_18",
          "raw_melspect_mean_20",
          "cln_melspect_mean_18",
          "cln_melspect_mean_20",
          "raw_melspect_mean_23",
          "raw_melspect_mean_24",
          "cln_melspect_mean_23",
          "cln_melspect_mean_24",
          "raw_melspect_mean_21",
          "cln_melspect_std_9",
          "raw_melspect_mean_22",
          "raw_mfcc_std_13",
          "raw_mfcc_std_2",
          "cln_melspect_mean_21",
          "cln_melspect_mean_22",
          "raw_melspect_mean_17",
          "raw_mfcc_d_std_0",
          "cln_melspect_mean_17",
          "raw_melspect_mean_32",
          "raw_mfcc_std_0",
          "raw_mfcc_std_12",
          "raw_melspect_mean_34",
          "cln_melspect_mean_32",
          "raw_melspect_mean_33",
          "raw_melspect_mean_25",
          "cln_melspect_mean_34",
          "raw_melspect_mean_14",
          "cln_mfcc_std_2",
          "raw_mfcc_std_19",
          "cln_melspect_mean_33",
          "cln_mfcc_std_13",
          "cln_melspect_mean_25",
          "raw_mfcc_std_11",
          "cln_melspect_mean_14",
          "raw_mfcc_std_14",
          "raw_melspect_mean_35",
          "raw_melspect_mean_36",
          "raw_melspect_mean_31",
          "raw_melspect_mean_15",
          "raw_melspect_mean_16",
          "cln_melspect_mean_36",
          "cln_melspect_mean_35",
          "raw_mfcc_std_17",
          "cln_melspect_mean_31",
          "cln_mfcc_std_12",
          "cln_melspect_mean_15",
          "raw_mfcc_std_18",
          "raw_melspect_mean_26",
          "cln_melspect_mean_16",
          "raw_melspect_std_6",
          "cln_mfcc_std_19",
          "cln_mfcc_d_std_0",
          "raw_mfcc_d_std_13",
          "cln_melspect_mean_26",
          "cln_bandwidth_std",
          "cln_mfcc_std_0",
          "raw_mfcc_d2_std_1",
          "cln_mfcc_std_11",
          "raw_mfcc_d_std_2",
          "raw_mfcc_std_10",
          "raw_mfcc_d_std_12",
          "cln_melspect_std_6",
          "cln_mfcc_std_17",
          "cln_mfcc_std_14",
          "cln_mfcc_std_18",
          "raw_melspect_mean_37",
          "cln_mfcc_d2_std_1",
          "raw_melspect_mean_30",
          "raw_mfcc_d_std_14",
          "raw_melspect_mean_27",
          "cln_melspect_mean_37",
          "raw_mfcc_d_std_19",
          "cln_melspect_mean_30",
          "cln_mfcc_d_std_13",
          "raw_mfcc_d_std_11",
          "cln_melspect_mean_27",
          "raw_mfcc_std_9",
          "raw_mfcc_std_16",
          "cln_mfcc_d_std_2",
          "raw_melspect_mean_3",
          "raw_mfcc_d_std_17",
          "cln_mfcc_d_std_12",
          "cln_melspect_mean_3",
          "raw_mfcc_std_8",
          "raw_melspect_mean_38",
          "cln_mfcc_std_10",
          "raw_melspect_std_10",
          "cln_melspect_mean_38",
          "cln_mfcc_d_std_19",
          "raw_mfcc_d_std_18",
          "raw_mfcc_std_15",
          "cln_mfcc_d_std_14",
          "raw_melspect_mean_29",
          "cln_mfcc_d_std_11",
          "raw_melspect_mean_28",
          "raw_mfcc_d_std_10",
          "cln_melspect_mean_29",
          "raw_melspect_mean_39",
          "cln_mfcc_d_std_17",
          "cln_melspect_mean_28",
          "cln_mfcc_std_9",
          "cln_melspect_mean_39",
          "cln_mfcc_std_16",
          "raw_mfcc_std_7",
          "cln_mfcc_d_std_18",
          "cln_mfcc_std_8",
          "raw_mfcc_d2_std_0",
          "raw_melspect_mean_40",
          "raw_mfcc_d_std_16",
          "cln_melspect_std_10",
          "cln_melspect_mean_40",
          "cln_contrast_mean_5",
          "cln_mfcc_std_15",
          "cln_mfcc_d_std_10",
          "raw_mfcc_d_std_9",
          "raw_melspect_mean_43",
          "raw_melspect_mean_41",
          "cln_melspect_mean_41",
          "raw_melspect_mean_42",
          "cln_melspect_mean_43",
          "cln_mfcc_std_7",
          "cln_melspect_mean_42",
          "raw_mfcc_d_std_8",
          "raw_melspect_mean_44",
          "cln_mfcc_d_std_16",
          "cln_melspect_mean_44",
          "raw_mfcc_d_std_15",
          "cln_mfcc_d2_std_0",
          "raw_mfcc_d2_std_2",
          "cln_mfcc_d_std_9",
          "raw_mfcc_d_std_7",
          "cln_flatness_std",
          "cln_mfcc_d_std_8",
          "cln_melspect_mean_45",
          "raw_melspect_mean_45",
          "cln_mfcc_d_std_15",
          "raw_melspect_std_5",
          "cln_mfcc_d2_std_2",
          "cln_melspect_mean_46",
          "raw_melspect_mean_46",
          "cln_mfcc_d_std_7",
          "raw_melspect_mean_47",
          "raw_mfcc_std_3",
          "cln_melspect_std_5",
          "cln_melspect_mean_47",
          "raw_mfcc_std_6",
          "raw_contrast_mean_6",
          "raw_melspect_std_11",
          "raw_contrast_mean_5",
          "cln_mfcc_std_3",
          "raw_mfcc_d2_std_11",
          "raw_mfcc_d2_std_19",
          "raw_mfcc_d2_std_13",
          "raw_melspect_mean_48",
          "cln_melspect_std_11",
          "cln_melspect_mean_48",
          "raw_mfcc_d2_std_12",
          "cln_mfcc_std_6",
          "raw_mfcc_d2_std_10",
          "raw_mfcc_d_std_3",
          "cln_contrast_mean_6",
          "cln_melspect_mean_49",
          "raw_melspect_mean_49",
          "raw_melspect_std_20",
          "raw_mfcc_d2_std_17",
          "cln_mfcc_d2_std_19",
          "raw_melspect_std_19",
          "cln_mfcc_d2_std_11",
          "raw_mfcc_d_std_6",
          "cln_mfcc_d2_std_13",
          "raw_melspect_std_21",
          "raw_mfcc_std_5",
          "raw_mfcc_d2_std_18",
          "raw_melspect_std_23",
          "cln_mfcc_d2_std_12",
          "raw_mfcc_d2_std_14",
          "cln_melspect_mean_50",
          "raw_melspect_std_22",
          "raw_melspect_mean_50",
          "cln_mfcc_d2_std_10",
          "cln_mfcc_d_std_3",
          "cln_mfcc_d2_std_17",
          "raw_melspect_std_24",
          "cln_melspect_std_19",
          "cln_melspect_std_20",
          "cln_mfcc_d2_std_18",
          "cln_contrast_mean_2",
          "cln_mfcc_d_std_6",
          "raw_contrast_mean_2",
          "raw_melspect_mean_51",
          "cln_melspect_std_21",
          "cln_melspect_mean_51",
          "cln_mfcc_std_5",
          "raw_melspect_std_18",
          "raw_mfcc_d2_std_9",
          "cln_melspect_std_23",
          "raw_melspect_std_34",
          "raw_melspect_std_33",
          "cln_mfcc_d2_std_14",
          "cln_melspect_std_22",
          "raw_mfcc_d_std_5",
          "raw_mfcc_std_4",
          "cln_melspect_std_24",
          "raw_melspect_std_32",
          "raw_mfcc_d2_std_16",
          "raw_melspect_std_35",
          "cln_melspect_std_18",
          "cln_mfcc_d2_std_9",
          "raw_melspect_std_31",
          "raw_melspect_std_12",
          "cln_melspect_mean_52",
          "raw_melspect_mean_52",
          "raw_melspect_std_36",
          "cln_mfcc_d_std_5",
          "cln_melspect_std_34",
          "raw_melspect_mean_2",
          "cln_melspect_std_33",
          "cln_mfcc_d2_std_16",
          "cln_melspect_mean_2",
          "cln_mfcc_std_4",
          "raw_melspect_std_25",
          "raw_mfcc_d2_std_15",
          "raw_melspect_std_30",
          "cln_melspect_std_32",
          "raw_melspect_std_37",
          "raw_melspect_std_17",
          "cln_melspect_mean_53",
          "cln_melspect_std_35",
          "cln_melspect_std_12",
          "raw_melspect_mean_53",
          "raw_melspect_std_38",
          "raw_melspect_std_4",
          "raw_mfcc_d_std_4",
          "cln_melspect_mean_54",
          "cln_melspect_std_31",
          "raw_mfcc_d2_std_8",
          "raw_melspect_std_39",
          "raw_melspect_mean_54",
          "cln_melspect_std_36",
          "raw_mfcc_d2_std_3",
          "raw_melspect_std_40",
          "raw_melspect_std_26",
          "cln_mfcc_d2_std_15",
          "raw_mfcc_mean_3",
          "cln_melspect_std_25",
          "cln_melspect_std_17",
          "cln_melspect_std_4",
          "cln_melspect_mean_55",
          "cln_melspect_std_30",
          "raw_melspect_std_41",
          "raw_melspect_mean_55",
          "raw_melspect_std_27",
          "raw_melspect_std_44",
          "cln_mfcc_mean_3",
          "raw_melspect_std_43",
          "cln_melspect_std_37",
          "raw_melspect_std_29",
          "cln_mfcc_d_std_4",
          "raw_melspect_std_28",
          "cln_mfcc_d2_std_8",
          "cln_melspect_mean_56",
          "cln_mfcc_d2_std_3",
          "cln_melspect_std_38",
          "raw_melspect_std_42",
          "raw_melspect_std_13",
          "raw_mfcc_d2_std_7",
          "raw_melspect_mean_56",
          "cln_melspect_std_39",
          "cln_melspect_mean_57",
          "cln_melspect_std_26",
          "cln_melspect_std_40",
          "raw_melspect_std_45",
          "raw_melspect_std_16",
          "raw_melspect_mean_57",
          "raw_centroid_std",
          "cln_contrast_std_4",
          "cln_melspect_std_41",
          "cln_melspect_std_27",
          "cln_melspect_std_29",
          "cln_melspect_mean_58",
          "cln_melspect_std_13",
          "cln_melspect_std_44",
          "cln_mfcc_d2_std_7",
          "cln_melspect_std_28",
          "cln_melspect_std_43",
          "cln_melspect_mean_59",
          "cln_contrast_std_6",
          "raw_melspect_mean_58",
          "cln_melspect_std_42",
          "cln_melspect_std_16",
          "raw_melspect_mean_59",
          "raw_melspect_std_46",
          "cln_melspect_std_45",
          "raw_melspect_std_15",
          "raw_melspect_std_14",
          "raw_contrast_std_4",
          "raw_melspect_std_47",
          "raw_contrast_std_6",
          "raw_mfcc_d2_std_6",
          "raw_melspect_std_48",
          "raw_melspect_std_49",
          "raw_mfcc_d2_std_5",
          "cln_melspect_std_15",
          "cln_melspect_std_14",
          "cln_melspect_std_46",
          "raw_melspect_std_50",
          "raw_mfcc_d2_std_4",
          "cln_melspect_std_47",
          "cln_mfcc_d2_std_5",
          "cln_mfcc_d2_std_6",
          "cln_contrast_std_5",
          "cln_melspect_std_48",
          "cln_melspect_std_49",
          "raw_melspect_std_51",
          "cln_mfcc_d2_std_4",
          "raw_melspect_std_52",
          "cln_melspect_std_50",
          "raw_melspect_std_53",
          "raw_contrast_std_5",
          "cln_melspect_std_51",
          "raw_melspect_std_54",
          "cln_melspect_std_52",
          "raw_melspect_mean_1",
          "cln_melspect_mean_1",
          "raw_melspect_std_55",
          "cln_melspect_std_53",
          "raw_melspect_std_56",
          "raw_melspect_std_3",
          "cln_melspect_std_54",
          "cln_melspect_std_55",
          "raw_melspect_std_57",
          "raw_melspect_std_58",
          "cln_melspect_std_3",
          "cln_melspect_std_56",
          "raw_contrast_std_2",
          "raw_melspect_std_59",
          "cln_contrast_std_2",
          "cln_melspect_std_57",
          "cln_melspect_std_58",
          "cln_melspect_std_59",
          "raw_mfcc_mean_18",
          "cln_mfcc_mean_18",
          "cln_melspect_mean_0",
          "raw_melspect_mean_0",
          "cln_mfcc_mean_16",
          "raw_mfcc_mean_16",
          "raw_mfcc_mean_19",
          "cln_mfcc_mean_19",
          "raw_mfcc_d2_mean_6",
          "cln_mfcc_d2_mean_6",
          "raw_mfcc_mean_17",
          "raw_mfcc_d2_mean_8",
          "raw_mfcc_d2_mean_9",
          "raw_mfcc_d2_mean_7",
          "raw_melspect_std_2",
          "cln_mfcc_d2_mean_7",
          "cln_mfcc_d2_mean_8",
          "cln_mfcc_d2_mean_9",
          "cln_mfcc_mean_17",
          "cln_melspect_std_2",
          "raw_mfcc_d2_mean_4",
          "cln_mfcc_mean_14",
          "raw_mfcc_d2_mean_5",
          "raw_mfcc_mean_14",
          "cln_mfcc_d2_mean_5",
          "cln_mfcc_d2_mean_4",
          "raw_mfcc_mean_2",
          "raw_mfcc_mean_15",
          "zcr_std",
          "cln_mfcc_mean_15",
          "cln_mfcc_mean_2",
          "cln_mfcc_d_mean_3",
          "raw_mfcc_d2_mean_10",
          "raw_mfcc_d_mean_3",
          "cln_mfcc_d2_mean_10",
          "raw_melspect_std_1",
          "cln_bandwidth_mean",
          "cln_contrast_mean_0",
          "cln_melspect_std_1",
          "raw_mfcc_d_mean_16",
          "cln_mfcc_d_mean_16",
          "raw_mfcc_d2_mean_2",
          "cln_mfcc_d2_mean_2",
          "raw_mfcc_d_mean_18",
          "cln_contrast_mean_1",
          "cln_mfcc_d_mean_18",
          "raw_mfcc_d_mean_13",
          "cln_mfcc_d_mean_19",
          "cln_mfcc_d_mean_13",
          "cln_mfcc_d2_mean_17",
          "raw_mfcc_d2_mean_17",
          "raw_mfcc_d_mean_19",
          "cln_mfcc_d_mean_17",
          "raw_mfcc_d_mean_17",
          "raw_mfcc_d_mean_2",
          "raw_melspect_std_0",
          "raw_mfcc_d_mean_15",
          "cln_mfcc_d_mean_15",
          "cln_mfcc_d_mean_2",
          "raw_mfcc_d_mean_14",
          "cln_mfcc_d_mean_14",
          "raw_mfcc_d2_mean_12",
          "cln_mfcc_d_mean_6",
          "raw_mfcc_d_mean_6",
          "cln_mfcc_d_mean_8",
          "raw_mfcc_d_mean_8",
          "cln_contrast_std_0",
          "raw_mfcc_d_mean_4",
          "cln_mfcc_d2_mean_12",
          "raw_mfcc_d_mean_11",
          "cln_melspect_std_0",
          "cln_mfcc_d_mean_11",
          "raw_contrast_std_1",
          "raw_contrast_std_0",
          "cln_mfcc_d_mean_4",
          "cln_contrast_std_1",
          "cln_mfcc_d_mean_1",
          "raw_mfcc_d2_mean_11",
          "raw_mfcc_d_mean_10",
          "cln_mfcc_d2_mean_11",
          "raw_mfcc_d2_mean_15",
          "cln_mfcc_d2_mean_15",
          "cln_mfcc_d_mean_10",
          "raw_mfcc_d_mean_1",
          "raw_contrast_mean_1",
          "cln_mfcc_d2_mean_19",
          "raw_mfcc_d2_mean_19",
          "cln_mfcc_d_mean_5",
          "cln_mfcc_d2_mean_18",
          "raw_mfcc_d_mean_5",
          "cln_mfcc_d2_mean_13",
          "raw_mfcc_d2_mean_13",
          "raw_mfcc_d2_mean_18",
          "raw_contrast_mean_0",
          "raw_mfcc_mean_13",
          "cln_mfcc_mean_13",
          "cln_mfcc_d_mean_9",
          "raw_mfcc_d2_mean_14",
          "cln_mfcc_d2_mean_14",
          "raw_mfcc_d_mean_9",
          "raw_mfcc_d2_mean_16",
          "raw_mfcc_d_mean_12",
          "cln_mfcc_d2_mean_16",
          "yin_8",
          "cln_mfcc_d_mean_7",
          "cln_mfcc_d_mean_12",
          "raw_mfcc_d_mean_7",
          "yin_7",
          "yin_13",
          "yin_11",
          "yin_5",
          "yin_9",
          "yin_6",
          "yin_12",
          "yin_4",
          "yin_10",
          "yin_3",
          "raw_mfcc_d_mean_0",
          "cln_mfcc_d_mean_0",
          "yin_2",
          "yin_1",
          "yin_0",
          "raw_mfcc_d2_mean_1",
          "cln_mfcc_d2_mean_1",
          "cln_mfcc_d2_mean_3",
          "raw_mfcc_d2_mean_3",
          "cln_mfcc_d2_mean_0",
          "cln_mfcc_mean_12",
          "cln_mfcc_mean_11",
          "raw_mfcc_d2_mean_0",
          "raw_mfcc_mean_12",
          "raw_mfcc_mean_11",
          "raw_flatness_std",
          "zcr_mean",
          "cln_mfcc_mean_4",
          "raw_mfcc_mean_4",
          "cln_mfcc_mean_10",
          "raw_mfcc_mean_10",
          "cln_mfcc_mean_5",
          "raw_mfcc_mean_5",
          "cln_mfcc_mean_9",
          "cln_mfcc_mean_7",
          "raw_mfcc_mean_9",
          "raw_mfcc_mean_7",
          "cln_mfcc_mean_6",
          "cln_mfcc_mean_8",
          "raw_mfcc_mean_8",
          "raw_mfcc_mean_6",
          "raw_centroid_mean",
          "raw_flatness_mean",
          "raw_bandwidth_mean",
          "cln_centroid_mean",
          "cln_flatness_mean"
         ],
         "y": [
          0.59391344153494,
          0.5625140852489224,
          0.5574597542943703,
          0.555943871820854,
          0.512812242385163,
          0.512307859868082,
          0.510014152693022,
          0.5082209100448646,
          0.4982214187751248,
          0.4864357682373767,
          0.4856798042971359,
          0.4853483012800635,
          0.48524360893672086,
          0.4839728994678914,
          0.46280553788670603,
          0.46178786785707177,
          0.44968421180558377,
          0.4481245670113885,
          0.44118791015129427,
          0.43173709986646297,
          0.43013437381931363,
          0.4264434340606918,
          0.41258218104787503,
          0.41007116193105614,
          0.3941376662665426,
          0.39316350230299435,
          0.39114587615888197,
          0.39031442524698357,
          0.3853486452856762,
          0.34856886995394176,
          0.34519243573129943,
          0.3435941449154236,
          0.3430326077725968,
          0.3369982851407078,
          0.3319059593615219,
          0.3267412177127371,
          0.32598265563104717,
          0.3254776697708913,
          0.3250097958603773,
          0.322267257545577,
          0.31850657923029746,
          0.31666210678588336,
          0.3154020220645788,
          0.30982557795333804,
          0.30972822455850346,
          0.30968394808123456,
          0.3088526030324682,
          0.3079513165707978,
          0.30483922864311547,
          0.30311495709817166,
          0.3015975175360277,
          0.3014877931546821,
          0.30112828877319203,
          0.29860290473734363,
          0.29452437232909107,
          0.2940483322005676,
          0.2927401030480842,
          0.29174240181988115,
          0.2896983563490139,
          0.2885008601525344,
          0.2872848637863734,
          0.28620360354201946,
          0.28531878327701754,
          0.2852471758403638,
          0.2848826749098337,
          0.2842190584100805,
          0.28339654469577996,
          0.283161238537641,
          0.2828328694397843,
          0.28183975443443615,
          0.2807374161322514,
          0.27958165339445773,
          0.2784682169815654,
          0.27826821287687703,
          0.2778014106695965,
          0.2772572458853808,
          0.27684335979450697,
          0.2767040950101072,
          0.27574281863670197,
          0.2755751927669245,
          0.27524266018515203,
          0.2745085685877443,
          0.27432379854345884,
          0.27432187573946554,
          0.27405853938947555,
          0.2735015073043129,
          0.27327268711274894,
          0.272828948764882,
          0.2724285553488664,
          0.27118629595530747,
          0.2703835177887243,
          0.2701286775978095,
          0.2699511682337152,
          0.2693624908532149,
          0.2689319703035541,
          0.2683594618650022,
          0.26820936601666673,
          0.26819624680151793,
          0.26808284328051796,
          0.26753420026259145,
          0.2674664691292558,
          0.2673797247612553,
          0.2668014852020463,
          0.2665250295252949,
          0.26630691293295977,
          0.2658799741933237,
          0.2657369003290685,
          0.2652987385621493,
          0.2643016594692902,
          0.2638643938561845,
          0.26358596654820793,
          0.26322681924024977,
          0.263143847179404,
          0.2622239010783834,
          0.260683004627065,
          0.260375257287547,
          0.26000563891656714,
          0.2599421305898958,
          0.25980054088577315,
          0.25972601537277556,
          0.25915852413586565,
          0.2584571263394172,
          0.25835089944488954,
          0.2581012816197974,
          0.2574032720469041,
          0.2572205804732385,
          0.2566485121727808,
          0.25661519145992134,
          0.2560081846416874,
          0.2559725931823353,
          0.25536740933968605,
          0.25495922503537066,
          0.2542104376088627,
          0.2540226541929746,
          0.25321105752129647,
          0.25284087580697817,
          0.25222342955799093,
          0.25176104082376755,
          0.2516947919281877,
          0.25107813996418576,
          0.25033618980483563,
          0.249997210950718,
          0.24922552420467695,
          0.24914807153529023,
          0.24901343365281506,
          0.24880266404237758,
          0.24838807933783877,
          0.24806729496534433,
          0.2476551961163976,
          0.24749051058434546,
          0.24651034677899394,
          0.24631029464966014,
          0.24608288291551816,
          0.2456828843466523,
          0.24563155488243565,
          0.2448393072696729,
          0.24457453086457698,
          0.24385684673577274,
          0.24349243667979548,
          0.2428438123899412,
          0.24166875904402318,
          0.24140890928765094,
          0.24123026475531706,
          0.24077053426651351,
          0.24050079169264935,
          0.24029529565545424,
          0.23850026269288108,
          0.23839337470797764,
          0.23792276931636153,
          0.23650978677483214,
          0.23646323279662987,
          0.23539821689353524,
          0.23488233823483626,
          0.234776274787484,
          0.23463198823431292,
          0.23395027084569484,
          0.23393898766539833,
          0.2332953299239842,
          0.23216326480879715,
          0.23183616980252392,
          0.23137251792345984,
          0.23086214170085015,
          0.2305842734047872,
          0.2289064704337583,
          0.22740787585868608,
          0.22591000391031346,
          0.22544612833883376,
          0.22439005964589667,
          0.22437455190293923,
          0.22427425709112522,
          0.2220721553980727,
          0.22143721992317603,
          0.22106448615347427,
          0.22019914067140633,
          0.22000161528335974,
          0.21770300133762102,
          0.21439170922101908,
          0.21422574865675076,
          0.2141095873827428,
          0.21389106567064323,
          0.21382124597067065,
          0.21198205908628037,
          0.21178837158622388,
          0.21176516448632288,
          0.20714122017062905,
          0.20640919959066223,
          0.20620901723501056,
          0.20556733066354158,
          0.2045589603574611,
          0.2044390357252756,
          0.20416967856356316,
          0.20351447735820166,
          0.2025998474569032,
          0.2023473291289554,
          0.20093318845560912,
          0.2007784288847785,
          0.20013556943724914,
          0.19996721656745417,
          0.1998948642919835,
          0.1995143564176984,
          0.19907611224371868,
          0.1989408966918517,
          0.1984859901211531,
          0.1983871941281367,
          0.19766307223526722,
          0.19733290229608208,
          0.19674819770934346,
          0.1963928265500856,
          0.1963752423430653,
          0.1956550460574448,
          0.19515864990573129,
          0.19469979684339753,
          0.19467302444932658,
          0.19463125989811428,
          0.19411709842854838,
          0.19360993184605899,
          0.19297958178899824,
          0.19212229329016914,
          0.19112310856872547,
          0.1908896344621612,
          0.19044722666605904,
          0.1897765689610488,
          0.18923650015318835,
          0.18900683438336133,
          0.1889611958826596,
          0.18868280558803116,
          0.1886607727827397,
          0.18796162439273184,
          0.1877786873756059,
          0.1876129255935311,
          0.1875791654408782,
          0.18691479889536755,
          0.18646725812797682,
          0.1864550703737812,
          0.18612748634280762,
          0.1845759553616181,
          0.18351412078433535,
          0.18349302134913595,
          0.18343351113690107,
          0.18316254723474548,
          0.1816049438142402,
          0.1802724572013357,
          0.17972281336716747,
          0.17947064444324087,
          0.17944104773731961,
          0.17929156227390278,
          0.17894437989379017,
          0.17810212618501206,
          0.17697848190182577,
          0.1769423283807351,
          0.17689625956760213,
          0.1766970645130711,
          0.17492268967089786,
          0.17491651112525874,
          0.17470287988828084,
          0.17446699452400619,
          0.1737777741054607,
          0.1737252893830341,
          0.17350164798649134,
          0.17334479664089805,
          0.17243827202583933,
          0.17131405679195458,
          0.1711517878144157,
          0.1711419181017467,
          0.1705514710500544,
          0.170461375376778,
          0.17040116545354447,
          0.16987981765909455,
          0.1696939541217306,
          0.1695829573321158,
          0.16880824430504407,
          0.16837749706095942,
          0.1678249539875564,
          0.16765379253825669,
          0.1669832970957495,
          0.16665657995313812,
          0.1665498453929033,
          0.16570401806335383,
          0.16520425536019712,
          0.16498347758190707,
          0.16478077341225125,
          0.1646618806658985,
          0.1645949559976869,
          0.1643275430723709,
          0.1640441443960657,
          0.16374936288288316,
          0.16331523833021447,
          0.16318648882170556,
          0.16314422097236977,
          0.1629913052119722,
          0.1628813310535084,
          0.16256037894551,
          0.16189123502976457,
          0.16167173217311592,
          0.16089257754911793,
          0.1604529903177868,
          0.16019786938852695,
          0.16018704348087803,
          0.15998728834086062,
          0.15897387049205625,
          0.1589012197288084,
          0.15829614735846453,
          0.15808634779489475,
          0.15778604218291142,
          0.1566084252022663,
          0.15636561977325683,
          0.15628997048693039,
          0.15602214556865165,
          0.15594710864214584,
          0.15537087494753152,
          0.1551758385530101,
          0.15399407750881747,
          0.15327494762362381,
          0.15273948295988,
          0.1523247281163061,
          0.1519342013354591,
          0.1519159346581134,
          0.1518643642222575,
          0.15159388308178387,
          0.15147332168777536,
          0.1512296724394556,
          0.15090851664365854,
          0.1504154598661532,
          0.14988615960210094,
          0.14854173537325513,
          0.1482930732432052,
          0.14828060888618383,
          0.1456049577970925,
          0.14528558411263076,
          0.14406573799500041,
          0.14366367997522358,
          0.14362332399495517,
          0.14171073468950676,
          0.14139858680580336,
          0.14123753052516466,
          0.1399746482866165,
          0.13958539169434236,
          0.13838710705354926,
          0.1378093478812831,
          0.13771353935363928,
          0.13576669093290974,
          0.13437848674803493,
          0.13285018322330236,
          0.13281889627442264,
          0.13268889503834885,
          0.13159038994966576,
          0.1306060587793913,
          0.12961112601027347,
          0.12930595626620092,
          0.12688021162070395,
          0.12650558261514472,
          0.12460711743157195,
          0.1225817763511853,
          0.12125812236004721,
          0.11837328261674485,
          0.11816327476054198,
          0.11570358329577358,
          0.11512282794743921,
          0.1149839971816492,
          0.11491654244520368,
          0.11235332996859178,
          0.1098647901754709,
          0.10857697790159905,
          0.10852288261576928,
          0.10555310918404877,
          0.10371289406455195,
          0.10323974987867919,
          0.10236508062173219,
          0.10150403098094356,
          0.0991845937496844,
          0.09839797522857922,
          0.09692491199662251,
          0.09684887562850115,
          0.09641969568347578,
          0.0896502741366105,
          0.08930387762489365,
          0.0870129428727708,
          0.08467680772930636,
          0.0840771702009882,
          0.07594800414746816,
          0.07488338739250065,
          0.06660671176349521,
          0.0652424864964647,
          0.06134799627288844,
          0.05825763953387688,
          0.053553595501890226,
          0.05353479386208327,
          0.053518741605148294,
          0.053511717459117224,
          0.05346534550154879,
          0.052853665636555615,
          0.05284798297456292,
          0.052690000547680124,
          0.05195466205702844,
          0.04768811261089169,
          0.04414866719756887,
          0.043542031067907536,
          0.04262520811664675,
          0.04201994158328268,
          0.041571716825511675,
          0.04148684215760098,
          0.041323691655853714,
          0.039909436171013564,
          0.039473279923803575,
          0.0391542802496593,
          0.03768963864806717,
          0.029860211973105025,
          0.02975595857272189,
          0.02944571165106077,
          0.02906136172679049,
          0.02282654150066525,
          0.0193621238097982,
          0.018037900297497023,
          0.017606923829685418,
          0.015956002859411494,
          0.015359634236986195,
          0.013748174040323148,
          0.012392291664573405,
          0.010640078323647209,
          0.009928757480762884,
          0.009800004318979,
          0.00928437995738058,
          0.008066482490222283,
          0.007875925991248343,
          0.007193991075020989,
          0.007021681973325349,
          0.006824066918944253,
          0.0066529586825965804,
          0.006630710475192662,
          0.005854234738661997,
          0.005528917974130033,
          0.005192949140827219,
          0.003718101813467798,
          0.0036897531056226136,
          0.0030555975499625752,
          0.002843594896788771,
          0.0027259125737187752,
          0.0024090168378501004,
          0.002134692522550648,
          0.0019135017433682623,
          0.0019009885787587806,
          0.0018073222416727511,
          0.0017536998510219737,
          0.0015805444892064075,
          0.00139981404588401,
          0.0011958944544192066,
          0.0011916873703898953,
          0.0011841525057266003,
          0.001118529105339607,
          -0.00010541116993004962,
          -0.0004030171643391681,
          -0.0006201959948687436,
          -0.0009836070997723445,
          -0.0010037899839858665,
          -0.001132312495537597,
          -0.001136126415771241,
          -0.0013423457229233915,
          -0.0022599486979184838,
          -0.0037253159588945648,
          -0.004116392883344367,
          -0.004462068577879371,
          -0.004775758259453308,
          -0.004784047399238455,
          -0.005136828430475052,
          -0.005287589046228967,
          -0.005512063019792312,
          -0.005573763167721327,
          -0.005816261584714527,
          -0.008304509880288366,
          -0.012110324658369103,
          -0.012243809637992167,
          -0.013931952865557743,
          -0.014068638425676032,
          -0.01467115379128957,
          -0.015280404654622446,
          -0.01551210517367942,
          -0.01581126069834727,
          -0.01591068033218017,
          -0.01616256851320357,
          -0.01623586272581169,
          -0.016265755875977013,
          -0.017722403486608692,
          -0.017839117617954314,
          -0.018626294508638876,
          -0.01889635192493262,
          -0.02026353717545289,
          -0.020265161657644828,
          -0.02073517281734722,
          -0.021680890759950666,
          -0.02188843706418949,
          -0.022306950821529514,
          -0.02317096856058873,
          -0.025881653680004734,
          -0.027710934546336427,
          -0.029564147828685227,
          -0.03359112848731763,
          -0.038236219327993454,
          -0.04018608140588273,
          -0.04226020643091662,
          -0.04550390794196292,
          -0.04684269400618113,
          -0.09239285513161677,
          -0.09371802225097657,
          -0.09757006200933216,
          -0.09763189605859009,
          -0.09794026793558286,
          -0.09867454072888227,
          -0.11517487381640058,
          -0.1375624127961619,
          -0.1458629000956929,
          -0.14896362275195224,
          -0.19469621869638834,
          -0.19888379893254704,
          -0.24748766876211536,
          -0.25140642089229076,
          -0.296739888232971,
          -0.2992818719238147,
          -0.30024009114848443,
          -0.3036199206236419,
          -0.32263965888574925,
          -0.3235653306985757,
          -0.32739790419339587,
          -0.32989637771064545,
          -0.35297510561155476,
          -0.4167910400703883,
          -0.4994765736723369,
          -0.535315664224949,
          -0.5590259615081713
         ]
        }
       ],
       "layout": {
        "height": 1000,
        "template": {
         "data": {
          "bar": [
           {
            "error_x": {
             "color": "#2a3f5f"
            },
            "error_y": {
             "color": "#2a3f5f"
            },
            "marker": {
             "line": {
              "color": "#E5ECF6",
              "width": 0.5
             },
             "pattern": {
              "fillmode": "overlay",
              "size": 10,
              "solidity": 0.2
             }
            },
            "type": "bar"
           }
          ],
          "barpolar": [
           {
            "marker": {
             "line": {
              "color": "#E5ECF6",
              "width": 0.5
             },
             "pattern": {
              "fillmode": "overlay",
              "size": 10,
              "solidity": 0.2
             }
            },
            "type": "barpolar"
           }
          ],
          "carpet": [
           {
            "aaxis": {
             "endlinecolor": "#2a3f5f",
             "gridcolor": "white",
             "linecolor": "white",
             "minorgridcolor": "white",
             "startlinecolor": "#2a3f5f"
            },
            "baxis": {
             "endlinecolor": "#2a3f5f",
             "gridcolor": "white",
             "linecolor": "white",
             "minorgridcolor": "white",
             "startlinecolor": "#2a3f5f"
            },
            "type": "carpet"
           }
          ],
          "choropleth": [
           {
            "colorbar": {
             "outlinewidth": 0,
             "ticks": ""
            },
            "type": "choropleth"
           }
          ],
          "contour": [
           {
            "colorbar": {
             "outlinewidth": 0,
             "ticks": ""
            },
            "colorscale": [
             [
              0,
              "#0d0887"
             ],
             [
              0.1111111111111111,
              "#46039f"
             ],
             [
              0.2222222222222222,
              "#7201a8"
             ],
             [
              0.3333333333333333,
              "#9c179e"
             ],
             [
              0.4444444444444444,
              "#bd3786"
             ],
             [
              0.5555555555555556,
              "#d8576b"
             ],
             [
              0.6666666666666666,
              "#ed7953"
             ],
             [
              0.7777777777777778,
              "#fb9f3a"
             ],
             [
              0.8888888888888888,
              "#fdca26"
             ],
             [
              1,
              "#f0f921"
             ]
            ],
            "type": "contour"
           }
          ],
          "contourcarpet": [
           {
            "colorbar": {
             "outlinewidth": 0,
             "ticks": ""
            },
            "type": "contourcarpet"
           }
          ],
          "heatmap": [
           {
            "colorbar": {
             "outlinewidth": 0,
             "ticks": ""
            },
            "colorscale": [
             [
              0,
              "#0d0887"
             ],
             [
              0.1111111111111111,
              "#46039f"
             ],
             [
              0.2222222222222222,
              "#7201a8"
             ],
             [
              0.3333333333333333,
              "#9c179e"
             ],
             [
              0.4444444444444444,
              "#bd3786"
             ],
             [
              0.5555555555555556,
              "#d8576b"
             ],
             [
              0.6666666666666666,
              "#ed7953"
             ],
             [
              0.7777777777777778,
              "#fb9f3a"
             ],
             [
              0.8888888888888888,
              "#fdca26"
             ],
             [
              1,
              "#f0f921"
             ]
            ],
            "type": "heatmap"
           }
          ],
          "heatmapgl": [
           {
            "colorbar": {
             "outlinewidth": 0,
             "ticks": ""
            },
            "colorscale": [
             [
              0,
              "#0d0887"
             ],
             [
              0.1111111111111111,
              "#46039f"
             ],
             [
              0.2222222222222222,
              "#7201a8"
             ],
             [
              0.3333333333333333,
              "#9c179e"
             ],
             [
              0.4444444444444444,
              "#bd3786"
             ],
             [
              0.5555555555555556,
              "#d8576b"
             ],
             [
              0.6666666666666666,
              "#ed7953"
             ],
             [
              0.7777777777777778,
              "#fb9f3a"
             ],
             [
              0.8888888888888888,
              "#fdca26"
             ],
             [
              1,
              "#f0f921"
             ]
            ],
            "type": "heatmapgl"
           }
          ],
          "histogram": [
           {
            "marker": {
             "pattern": {
              "fillmode": "overlay",
              "size": 10,
              "solidity": 0.2
             }
            },
            "type": "histogram"
           }
          ],
          "histogram2d": [
           {
            "colorbar": {
             "outlinewidth": 0,
             "ticks": ""
            },
            "colorscale": [
             [
              0,
              "#0d0887"
             ],
             [
              0.1111111111111111,
              "#46039f"
             ],
             [
              0.2222222222222222,
              "#7201a8"
             ],
             [
              0.3333333333333333,
              "#9c179e"
             ],
             [
              0.4444444444444444,
              "#bd3786"
             ],
             [
              0.5555555555555556,
              "#d8576b"
             ],
             [
              0.6666666666666666,
              "#ed7953"
             ],
             [
              0.7777777777777778,
              "#fb9f3a"
             ],
             [
              0.8888888888888888,
              "#fdca26"
             ],
             [
              1,
              "#f0f921"
             ]
            ],
            "type": "histogram2d"
           }
          ],
          "histogram2dcontour": [
           {
            "colorbar": {
             "outlinewidth": 0,
             "ticks": ""
            },
            "colorscale": [
             [
              0,
              "#0d0887"
             ],
             [
              0.1111111111111111,
              "#46039f"
             ],
             [
              0.2222222222222222,
              "#7201a8"
             ],
             [
              0.3333333333333333,
              "#9c179e"
             ],
             [
              0.4444444444444444,
              "#bd3786"
             ],
             [
              0.5555555555555556,
              "#d8576b"
             ],
             [
              0.6666666666666666,
              "#ed7953"
             ],
             [
              0.7777777777777778,
              "#fb9f3a"
             ],
             [
              0.8888888888888888,
              "#fdca26"
             ],
             [
              1,
              "#f0f921"
             ]
            ],
            "type": "histogram2dcontour"
           }
          ],
          "mesh3d": [
           {
            "colorbar": {
             "outlinewidth": 0,
             "ticks": ""
            },
            "type": "mesh3d"
           }
          ],
          "parcoords": [
           {
            "line": {
             "colorbar": {
              "outlinewidth": 0,
              "ticks": ""
             }
            },
            "type": "parcoords"
           }
          ],
          "pie": [
           {
            "automargin": true,
            "type": "pie"
           }
          ],
          "scatter": [
           {
            "fillpattern": {
             "fillmode": "overlay",
             "size": 10,
             "solidity": 0.2
            },
            "type": "scatter"
           }
          ],
          "scatter3d": [
           {
            "line": {
             "colorbar": {
              "outlinewidth": 0,
              "ticks": ""
             }
            },
            "marker": {
             "colorbar": {
              "outlinewidth": 0,
              "ticks": ""
             }
            },
            "type": "scatter3d"
           }
          ],
          "scattercarpet": [
           {
            "marker": {
             "colorbar": {
              "outlinewidth": 0,
              "ticks": ""
             }
            },
            "type": "scattercarpet"
           }
          ],
          "scattergeo": [
           {
            "marker": {
             "colorbar": {
              "outlinewidth": 0,
              "ticks": ""
             }
            },
            "type": "scattergeo"
           }
          ],
          "scattergl": [
           {
            "marker": {
             "colorbar": {
              "outlinewidth": 0,
              "ticks": ""
             }
            },
            "type": "scattergl"
           }
          ],
          "scattermapbox": [
           {
            "marker": {
             "colorbar": {
              "outlinewidth": 0,
              "ticks": ""
             }
            },
            "type": "scattermapbox"
           }
          ],
          "scatterpolar": [
           {
            "marker": {
             "colorbar": {
              "outlinewidth": 0,
              "ticks": ""
             }
            },
            "type": "scatterpolar"
           }
          ],
          "scatterpolargl": [
           {
            "marker": {
             "colorbar": {
              "outlinewidth": 0,
              "ticks": ""
             }
            },
            "type": "scatterpolargl"
           }
          ],
          "scatterternary": [
           {
            "marker": {
             "colorbar": {
              "outlinewidth": 0,
              "ticks": ""
             }
            },
            "type": "scatterternary"
           }
          ],
          "surface": [
           {
            "colorbar": {
             "outlinewidth": 0,
             "ticks": ""
            },
            "colorscale": [
             [
              0,
              "#0d0887"
             ],
             [
              0.1111111111111111,
              "#46039f"
             ],
             [
              0.2222222222222222,
              "#7201a8"
             ],
             [
              0.3333333333333333,
              "#9c179e"
             ],
             [
              0.4444444444444444,
              "#bd3786"
             ],
             [
              0.5555555555555556,
              "#d8576b"
             ],
             [
              0.6666666666666666,
              "#ed7953"
             ],
             [
              0.7777777777777778,
              "#fb9f3a"
             ],
             [
              0.8888888888888888,
              "#fdca26"
             ],
             [
              1,
              "#f0f921"
             ]
            ],
            "type": "surface"
           }
          ],
          "table": [
           {
            "cells": {
             "fill": {
              "color": "#EBF0F8"
             },
             "line": {
              "color": "white"
             }
            },
            "header": {
             "fill": {
              "color": "#C8D4E3"
             },
             "line": {
              "color": "white"
             }
            },
            "type": "table"
           }
          ]
         },
         "layout": {
          "annotationdefaults": {
           "arrowcolor": "#2a3f5f",
           "arrowhead": 0,
           "arrowwidth": 1
          },
          "autotypenumbers": "strict",
          "coloraxis": {
           "colorbar": {
            "outlinewidth": 0,
            "ticks": ""
           }
          },
          "colorscale": {
           "diverging": [
            [
             0,
             "#8e0152"
            ],
            [
             0.1,
             "#c51b7d"
            ],
            [
             0.2,
             "#de77ae"
            ],
            [
             0.3,
             "#f1b6da"
            ],
            [
             0.4,
             "#fde0ef"
            ],
            [
             0.5,
             "#f7f7f7"
            ],
            [
             0.6,
             "#e6f5d0"
            ],
            [
             0.7,
             "#b8e186"
            ],
            [
             0.8,
             "#7fbc41"
            ],
            [
             0.9,
             "#4d9221"
            ],
            [
             1,
             "#276419"
            ]
           ],
           "sequential": [
            [
             0,
             "#0d0887"
            ],
            [
             0.1111111111111111,
             "#46039f"
            ],
            [
             0.2222222222222222,
             "#7201a8"
            ],
            [
             0.3333333333333333,
             "#9c179e"
            ],
            [
             0.4444444444444444,
             "#bd3786"
            ],
            [
             0.5555555555555556,
             "#d8576b"
            ],
            [
             0.6666666666666666,
             "#ed7953"
            ],
            [
             0.7777777777777778,
             "#fb9f3a"
            ],
            [
             0.8888888888888888,
             "#fdca26"
            ],
            [
             1,
             "#f0f921"
            ]
           ],
           "sequentialminus": [
            [
             0,
             "#0d0887"
            ],
            [
             0.1111111111111111,
             "#46039f"
            ],
            [
             0.2222222222222222,
             "#7201a8"
            ],
            [
             0.3333333333333333,
             "#9c179e"
            ],
            [
             0.4444444444444444,
             "#bd3786"
            ],
            [
             0.5555555555555556,
             "#d8576b"
            ],
            [
             0.6666666666666666,
             "#ed7953"
            ],
            [
             0.7777777777777778,
             "#fb9f3a"
            ],
            [
             0.8888888888888888,
             "#fdca26"
            ],
            [
             1,
             "#f0f921"
            ]
           ]
          },
          "colorway": [
           "#636efa",
           "#EF553B",
           "#00cc96",
           "#ab63fa",
           "#FFA15A",
           "#19d3f3",
           "#FF6692",
           "#B6E880",
           "#FF97FF",
           "#FECB52"
          ],
          "font": {
           "color": "#2a3f5f"
          },
          "geo": {
           "bgcolor": "white",
           "lakecolor": "white",
           "landcolor": "#E5ECF6",
           "showlakes": true,
           "showland": true,
           "subunitcolor": "white"
          },
          "hoverlabel": {
           "align": "left"
          },
          "hovermode": "closest",
          "mapbox": {
           "style": "light"
          },
          "paper_bgcolor": "white",
          "plot_bgcolor": "#E5ECF6",
          "polar": {
           "angularaxis": {
            "gridcolor": "white",
            "linecolor": "white",
            "ticks": ""
           },
           "bgcolor": "#E5ECF6",
           "radialaxis": {
            "gridcolor": "white",
            "linecolor": "white",
            "ticks": ""
           }
          },
          "scene": {
           "xaxis": {
            "backgroundcolor": "#E5ECF6",
            "gridcolor": "white",
            "gridwidth": 2,
            "linecolor": "white",
            "showbackground": true,
            "ticks": "",
            "zerolinecolor": "white"
           },
           "yaxis": {
            "backgroundcolor": "#E5ECF6",
            "gridcolor": "white",
            "gridwidth": 2,
            "linecolor": "white",
            "showbackground": true,
            "ticks": "",
            "zerolinecolor": "white"
           },
           "zaxis": {
            "backgroundcolor": "#E5ECF6",
            "gridcolor": "white",
            "gridwidth": 2,
            "linecolor": "white",
            "showbackground": true,
            "ticks": "",
            "zerolinecolor": "white"
           }
          },
          "shapedefaults": {
           "line": {
            "color": "#2a3f5f"
           }
          },
          "ternary": {
           "aaxis": {
            "gridcolor": "white",
            "linecolor": "white",
            "ticks": ""
           },
           "baxis": {
            "gridcolor": "white",
            "linecolor": "white",
            "ticks": ""
           },
           "bgcolor": "#E5ECF6",
           "caxis": {
            "gridcolor": "white",
            "linecolor": "white",
            "ticks": ""
           }
          },
          "title": {
           "x": 0.05
          },
          "xaxis": {
           "automargin": true,
           "gridcolor": "white",
           "linecolor": "white",
           "ticks": "",
           "title": {
            "standoff": 15
           },
           "zerolinecolor": "white",
           "zerolinewidth": 2
          },
          "yaxis": {
           "automargin": true,
           "gridcolor": "white",
           "linecolor": "white",
           "ticks": "",
           "title": {
            "standoff": 15
           },
           "zerolinecolor": "white",
           "zerolinewidth": 2
          }
         }
        },
        "title": {
         "text": "Pearson R Correlation over all Files for each Feature"
        },
        "width": 2000,
        "xaxis": {
         "tickangle": -45,
         "title": {
          "text": "Labels"
         }
        },
        "yaxis": {
         "title": {
          "text": "Correlation"
         }
        }
       }
      }
     },
     "metadata": {},
     "output_type": "display_data"
    }
   ],
   "source": [
    "correlations_by_file = np.asarray(correlations_by_file)\n",
    "\n",
    "overall_correlation_by_feature = []\n",
    "\n",
    "for i in range(correlations_by_file.shape[1]):\n",
    "\n",
    "    correlations = correlations_by_file[:, i]\n",
    "    overall_correlation = sum(correlations) / correlations_by_file.shape[0]\n",
    "\n",
    "    overall_correlation_by_feature.append(overall_correlation)\n",
    "\n",
    "\n",
    "\n",
    "\n",
    "labels = create_labels()\n",
    "\n",
    "\n",
    "# Sort the values and labels in ascending order\n",
    "sorted_values, sorted_labels = zip(*sorted(zip(overall_correlation_by_feature, labels), reverse= True))\n",
    "\n",
    "    \n",
    "\n",
    "# Create the bar plot\n",
    "fig = go.Figure([go.Bar(x=sorted_labels, y=sorted_values)])\n",
    "\n",
    "# Update the layout\n",
    "fig.update_layout(\n",
    "    title='Pearson R Correlation over all Files for each Feature',\n",
    "    xaxis_title='Labels',\n",
    "    yaxis_title='Correlation',\n",
    "    xaxis_tickangle=-45,\n",
    "    height = 1000,\n",
    "    width = 2000\n",
    ")\n",
    "\n",
    "# Show the plot\n",
    "fig.show()"
   ]
  },
  {
   "cell_type": "code",
   "execution_count": 67,
   "metadata": {},
   "outputs": [
    {
     "name": "stdout",
     "output_type": "stream",
     "text": [
      "The Top 20 best features to use accordingly to the Pearson correlation coefficient:\n",
      "\n",
      "raw_energy_mean\n",
      "raw_flux_mean\n",
      "cln_contrast_mean_3\n",
      "raw_contrast_mean_3\n",
      "raw_energy_std\n",
      "raw_flux_std\n",
      "raw_power_mean\n",
      "raw_mfcc_mean_0\n",
      "cln_mfcc_mean_0\n",
      "raw_melspect_mean_7\n",
      "raw_power_std\n",
      "raw_melspect_mean_8\n",
      "cln_melspect_mean_7\n",
      "cln_melspect_mean_8\n",
      "raw_melspect_mean_9\n",
      "cln_melspect_mean_9\n",
      "raw_melspect_mean_6\n",
      "cln_melspect_mean_6\n",
      "cln_flux_mean\n",
      "cln_energy_mean\n"
     ]
    }
   ],
   "source": [
    "df = pd.DataFrame({'data': overall_correlation_by_feature, 'labels': labels})\n",
    "df = df.sort_values(by= 'data', ascending=False)\n",
    "\n",
    "\n",
    "print('The Top 20 best features to use accordingly to the Pearson correlation coefficient:\\n')\n",
    "for _ in list(df[\"labels\"][:20]):\n",
    "    print(_)\n",
    "\n",
    "\n"
   ]
  }
 ],
 "metadata": {
  "kernelspec": {
   "display_name": "Python 3",
   "language": "python",
   "name": "python3"
  },
  "language_info": {
   "codemirror_mode": {
    "name": "ipython",
    "version": 3
   },
   "file_extension": ".py",
   "mimetype": "text/x-python",
   "name": "python",
   "nbconvert_exporter": "python",
   "pygments_lexer": "ipython3",
   "version": "3.11.1"
  },
  "orig_nbformat": 4
 },
 "nbformat": 4,
 "nbformat_minor": 2
}
